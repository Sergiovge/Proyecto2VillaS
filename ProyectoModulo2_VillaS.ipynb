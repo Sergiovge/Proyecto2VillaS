{
 "cells": [
  {
   "cell_type": "markdown",
   "id": "a09ccc5e",
   "metadata": {},
   "source": [
    "# Cálculo de Calor específico de un material a calentar\n",
    "Sergio Villa García\n",
    "\n",
    "22/04/2024"
   ]
  },
  {
   "cell_type": "markdown",
   "id": "9ddd8d68",
   "metadata": {},
   "source": [
    "## Objetivos\n",
    "\n",
    "### Objetivo General\n",
    "Se busca poder obtener el valor de calor específico de un material utilizando una ecuación que describe su comportamiento dependiendo de la temperatura.\n",
    "\n",
    "### Objetivo Específico\n",
    "1. Desarrollar la ecuacion de flujo de calor para integrar la ecuación de calor específico de un material a calentar a la vez que se calcula la cantidad de calor requerida para que este material llegue a cierta temperatura.\n",
    "\n",
    "2. Usar integración montecarlo para reducir el error presente."
   ]
  },
  {
   "cell_type": "markdown",
   "id": "d41f0535",
   "metadata": {},
   "source": [
    "## Modelo del Problema\n",
    "\n",
    "Para el cálculo de calor requerido para aumentar la temperatura de un material se usa la siguiente ecuación:\n",
    "$$ Q= mc_p(T_2-T_1) $$\n",
    "Donde $Q$ es el calor requerido, $m$ es la masa del material a aumentar, $T$ son las temperaturas inicial y final y el $c_p$ es el calor específico, una propiedad única de cada material que representa cuanto calor se requiere para aumentar una unidad de masa una unidad de temperatura, por ejemplo las unidades pueden ser $\\frac{calorías}{gramo*°Centígrado}$.\n",
    "\n",
    "Sin embargo el aumentar mucho la temperatura pueden darse cambios en el calor específico de los materiales por lo que se puede llegar a representar el $c_p$ por ecuaciones como lo es la ecuación a estduiar:\n",
    "$$c_p =.132+(1.56*(10^-4)*T)+(2.64*(10^-7)*T^2$$\n",
    "Esta ecuación se puede sustituir de forma tal que la ecuación de calor requerido sea una integral con respecto a la temperatura:\n",
    "$$Q=m*\\int_T^T .132+(1.56*(10^-4)*T)+(2.64*(10^-7)*T^2 dT$$\n",
    "\n",
    "\n",
    "Buscaremos aumentar la temperatura de 1 gramo de este material desde -100 hasta los 200 °C.\n"
   ]
  },
  {
   "cell_type": "markdown",
   "id": "69e66944",
   "metadata": {},
   "source": [
    "## Solución"
   ]
  },
  {
   "cell_type": "code",
   "execution_count": 15,
   "id": "088d1103",
   "metadata": {},
   "outputs": [
    {
     "data": {
      "text/plain": [
       "42.737087437166316"
      ]
     },
     "execution_count": 15,
     "metadata": {},
     "output_type": "execute_result"
    }
   ],
   "source": [
    "import numpy as np\n",
    "\n",
    "def montecarlo (f, a, b, N) :\n",
    "    u = np.random.uniform(a, b, N)\n",
    "    y = f(u)\n",
    "    return np.mean(y)*(b-a)\n",
    "\n",
    "def Cp (x):\n",
    "    return(.132+(1.56*(10**(-4))*x)+(2.64*(10**(-7))*x**2))\n",
    "\n",
    "a= -100\n",
    "b= 200\n",
    "Resultado = 42.732\n",
    "\n",
    "montecarlo(Cp, a, b, 1000000)"
   ]
  },
  {
   "cell_type": "code",
   "execution_count": 14,
   "id": "fa2f67e5",
   "metadata": {},
   "outputs": [
    {
     "data": {
      "text/html": [
       "<div>\n",
       "<style scoped>\n",
       "    .dataframe tbody tr th:only-of-type {\n",
       "        vertical-align: middle;\n",
       "    }\n",
       "\n",
       "    .dataframe tbody tr th {\n",
       "        vertical-align: top;\n",
       "    }\n",
       "\n",
       "    .dataframe thead th {\n",
       "        text-align: right;\n",
       "    }\n",
       "</style>\n",
       "<table border=\"1\" class=\"dataframe\">\n",
       "  <thead>\n",
       "    <tr style=\"text-align: right;\">\n",
       "      <th></th>\n",
       "      <th>Aproximación</th>\n",
       "      <th>Error</th>\n",
       "    </tr>\n",
       "  </thead>\n",
       "  <tbody>\n",
       "    <tr>\n",
       "      <th>1</th>\n",
       "      <td>36.645343</td>\n",
       "      <td>6.086657</td>\n",
       "    </tr>\n",
       "    <tr>\n",
       "      <th>5</th>\n",
       "      <td>46.140183</td>\n",
       "      <td>3.408183</td>\n",
       "    </tr>\n",
       "    <tr>\n",
       "      <th>10</th>\n",
       "      <td>42.7509</td>\n",
       "      <td>0.0189</td>\n",
       "    </tr>\n",
       "    <tr>\n",
       "      <th>100</th>\n",
       "      <td>42.773334</td>\n",
       "      <td>0.041334</td>\n",
       "    </tr>\n",
       "    <tr>\n",
       "      <th>1000</th>\n",
       "      <td>42.955247</td>\n",
       "      <td>0.223247</td>\n",
       "    </tr>\n",
       "    <tr>\n",
       "      <th>10000</th>\n",
       "      <td>42.72852</td>\n",
       "      <td>0.00348</td>\n",
       "    </tr>\n",
       "    <tr>\n",
       "      <th>100000</th>\n",
       "      <td>42.747755</td>\n",
       "      <td>0.015755</td>\n",
       "    </tr>\n",
       "    <tr>\n",
       "      <th>1000000</th>\n",
       "      <td>42.731679</td>\n",
       "      <td>0.000321</td>\n",
       "    </tr>\n",
       "  </tbody>\n",
       "</table>\n",
       "</div>"
      ],
      "text/plain": [
       "        Aproximación     Error\n",
       "1          36.645343  6.086657\n",
       "5          46.140183  3.408183\n",
       "10           42.7509    0.0189\n",
       "100        42.773334  0.041334\n",
       "1000       42.955247  0.223247\n",
       "10000       42.72852   0.00348\n",
       "100000     42.747755  0.015755\n",
       "1000000    42.731679  0.000321"
      ]
     },
     "execution_count": 14,
     "metadata": {},
     "output_type": "execute_result"
    }
   ],
   "source": [
    "import pandas as pd\n",
    "N= [1, 5, 10, 100, 1000, 10000, 100000, 1000000]\n",
    "tabla = pd.DataFrame (columns=[\"Aproximación\", \"Error\"], index = N)\n",
    "\n",
    "\n",
    "for n in N:\n",
    "    tabla.loc[n, \"Aproximación\"] = montecarlo(Cp, a, b, n)\n",
    "    tabla.loc[n, \"Error\"] = np.abs(Resultado-tabla.loc[n, \"Aproximación\"])\n",
    "tabla"
   ]
  },
  {
   "cell_type": "markdown",
   "id": "26576675",
   "metadata": {},
   "source": [
    "## Conclusiones\n",
    "\n",
    "Como se puede observar el método requiere una gran cantidad de números para poder aproximarse al resultado lo mejor posible. Esto muy probablemente se debe a que al aumentar tanto la temperatura el material muy probabalemente tabién realizará un cambio de fase, cambiando a su vez su $c_p$ de forma más significativa.\n",
    "\n",
    "Esto puede ser conveniente al tratar con un mismo material en varios casos donde clientes o productos requieran diferentes cambios de Temperatura y se puede hacer una interfaz amigable al usuario para poder saber los requerimientos de energía que vaya a requerir el proyecto."
   ]
  },
  {
   "cell_type": "markdown",
   "id": "b02f6151",
   "metadata": {},
   "source": [
    "## Referencias\n",
    "\n",
    "Chapra, S. C., & Canale, R. P. (1986). Numerical Methods for Engineers. http://ndl.ethernet.edu.et/bitstream/123456789/89573/1/Numerical%20Methods%20for%20Engineers%2c%205th%20edition%20by%20Steven%20C.%20Chapra%2c%20Raymond%20P.%20Canale%20%28z-lib.org%29.pdf\n",
    "\n",
    "Çengel, Y. A. (2011). TRANSFERENCIA DE CALOR y MASA."
   ]
  },
  {
   "cell_type": "code",
   "execution_count": null,
   "id": "4bd535dc",
   "metadata": {},
   "outputs": [],
   "source": []
  }
 ],
 "metadata": {
  "kernelspec": {
   "display_name": "Python 3 (ipykernel)",
   "language": "python",
   "name": "python3"
  },
  "language_info": {
   "codemirror_mode": {
    "name": "ipython",
    "version": 3
   },
   "file_extension": ".py",
   "mimetype": "text/x-python",
   "name": "python",
   "nbconvert_exporter": "python",
   "pygments_lexer": "ipython3",
   "version": "3.11.5"
  }
 },
 "nbformat": 4,
 "nbformat_minor": 5
}
